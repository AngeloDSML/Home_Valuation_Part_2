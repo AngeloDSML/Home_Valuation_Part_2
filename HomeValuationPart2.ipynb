{
  "nbformat": 4,
  "nbformat_minor": 0,
  "metadata": {
    "colab": {
      "name": "Tutorial Part 2",
      "provenance": [],
      "collapsed_sections": []
    },
    "kernelspec": {
      "name": "python3",
      "display_name": "Python 3"
    }
  },
  "cells": [
    {
      "cell_type": "markdown",
      "metadata": {
        "id": "1lhttaPaFVFG"
      },
      "source": [
        "### **Quick Tutorial - Machine Learning Models for Residential Appraisers, Part 2**\n",
        "### **Random Forest and Extreme Gradient Boosting (XGBoost)**\n",
        "\n",
        "&nbsp;  \n",
        "*Important Note: There are plenty of free machine learning tutorials and courses online. Anyone can access them, learn, and run predictive models for home values. However, this tutorial has been designed specifically for residential appraisers, and some of the material will be irrelevant or less important for other industries. If you are not a residential appraiser, and/or you are looking to learn about machine learning as a broader field, this tutorial may not be adequate for you.*\n",
        "\n",
        "The purpose of this tutorial is for residential appraisers interested in machine learning to get their toes wet. This is **not** a comprehensive machine learning tutorial and it does **not** cover everything there is to know about the topic. \n",
        "\n",
        "\n",
        "&nbsp;  \n",
        "**Prerequisites:**\n",
        "1.\tSome understanding of Python programming.\n",
        "2.\tAccess and familiarity with Jupyter notebook.\n",
        "3.\tIf you want to use your own data you will need access to home sales data and custom exports from your local MLS.\n",
        "\n",
        "&nbsp;  \n",
        "**Obtain the data:**\n",
        "We will be using a dataset of home sales that includes sales prices and several predicting features, in csv format ***(Already pre-processed from Part 1 of the tutorial)***. \n",
        "\n",
        "The easiest way to obtain a dataset for your specific market area is by creating a custom csv export from your local MLS system. If you don’t know how to create it you should get technical support from your MLS provider.\n",
        "\n",
        "The sales dataset  contains the following features:\n",
        "Lot size, Water View, Year Built, Bedrooms, Bathrooms, GLA, Garage, Carport, Fireplace, Pool, and Sales Price.\n",
        "Note: These features are based on the subject’s market area. You should export a dataset that includes all of the value-affecting features you consider relevant for your specific market area. \n",
        "\n",
        "&nbsp;  \n",
        "**Assumptions:**\n",
        "We will make the following assumptions for the purpose of this tutorial. \n",
        "1.\tStable market condition. In rapidly increasing or decreasing markets you will likely need to add a “sales date” column/feature.\n",
        "2.\tAccurate data sources. MLS data is considered to be good and reliable.\n",
        "3.\tRelevant predicting features. Make sure you include all of the appropriate value-affecting features for the subject’s market area."
      ]
    },
    {
      "cell_type": "markdown",
      "metadata": {
        "id": "49NM76jSdSmm"
      },
      "source": [
        "### **IMPORT LIBRARIES**"
      ]
    },
    {
      "cell_type": "markdown",
      "metadata": {
        "id": "ClR2XS8cXerE"
      },
      "source": [
        "#### First, we need to import the libraries we are going to be using."
      ]
    },
    {
      "cell_type": "code",
      "metadata": {
        "id": "lqawxvpFcsW6"
      },
      "source": [
        "import pandas as pd\n",
        "import numpy as np\n",
        "import sklearn as sk\n"
      ],
      "execution_count": 1,
      "outputs": []
    },
    {
      "cell_type": "markdown",
      "metadata": {
        "id": "maHZ7kfIdqzE"
      },
      "source": [
        "### **IMPORT DATASET**"
      ]
    },
    {
      "cell_type": "markdown",
      "metadata": {
        "id": "JNyOh3z_Hce6"
      },
      "source": [
        "#### Next, we import the homes sales dataset to our notebook. (The dataset is already pre-processed from Part 1 of the tutorial) \n",
        "\n",
        "\n"
      ]
    },
    {
      "cell_type": "code",
      "metadata": {
        "id": "ayPdMqp8dKRX",
        "colab": {
          "base_uri": "https://localhost:8080/",
          "height": 206
        },
        "outputId": "e4e3f702-05f6-40be-feb3-9ade4a653451"
      },
      "source": [
        "file_path = '/content/Sales_Dataset2.csv'       #Create file path to csv dataset\n",
        "sales_df = pd.read_csv(file_path)               #Read dataset and assign the name sales_df\n",
        "sales_df.head()                                 #Display data (first 5 rows) to make sure it was successfully imported"
      ],
      "execution_count": 2,
      "outputs": [
        {
          "output_type": "execute_result",
          "data": {
            "text/plain": [
              "    Site  View  Age  Bedrooms  Bathrooms   GLA  Garage  Fireplace  Pool  \\\n",
              "0   8549     1    5         5        4.0  4439       3          0     1   \n",
              "1  11108     0    3         5        4.0  4069       3          0     0   \n",
              "2   9920     0   22         5        4.0  3834       3          1     1   \n",
              "3  10035     1   22         5        4.0  3828       3          1     1   \n",
              "4   9600     1   14         5        4.0  3382       3          0     1   \n",
              "\n",
              "   Sales_Price  \n",
              "0       675000  \n",
              "1       540000  \n",
              "2       515000  \n",
              "3       495000  \n",
              "4       494700  "
            ],
            "text/html": [
              "\n",
              "  <div id=\"df-ca631a8e-5d49-43cf-ba96-b40bd624f5cf\">\n",
              "    <div class=\"colab-df-container\">\n",
              "      <div>\n",
              "<style scoped>\n",
              "    .dataframe tbody tr th:only-of-type {\n",
              "        vertical-align: middle;\n",
              "    }\n",
              "\n",
              "    .dataframe tbody tr th {\n",
              "        vertical-align: top;\n",
              "    }\n",
              "\n",
              "    .dataframe thead th {\n",
              "        text-align: right;\n",
              "    }\n",
              "</style>\n",
              "<table border=\"1\" class=\"dataframe\">\n",
              "  <thead>\n",
              "    <tr style=\"text-align: right;\">\n",
              "      <th></th>\n",
              "      <th>Site</th>\n",
              "      <th>View</th>\n",
              "      <th>Age</th>\n",
              "      <th>Bedrooms</th>\n",
              "      <th>Bathrooms</th>\n",
              "      <th>GLA</th>\n",
              "      <th>Garage</th>\n",
              "      <th>Fireplace</th>\n",
              "      <th>Pool</th>\n",
              "      <th>Sales_Price</th>\n",
              "    </tr>\n",
              "  </thead>\n",
              "  <tbody>\n",
              "    <tr>\n",
              "      <th>0</th>\n",
              "      <td>8549</td>\n",
              "      <td>1</td>\n",
              "      <td>5</td>\n",
              "      <td>5</td>\n",
              "      <td>4.0</td>\n",
              "      <td>4439</td>\n",
              "      <td>3</td>\n",
              "      <td>0</td>\n",
              "      <td>1</td>\n",
              "      <td>675000</td>\n",
              "    </tr>\n",
              "    <tr>\n",
              "      <th>1</th>\n",
              "      <td>11108</td>\n",
              "      <td>0</td>\n",
              "      <td>3</td>\n",
              "      <td>5</td>\n",
              "      <td>4.0</td>\n",
              "      <td>4069</td>\n",
              "      <td>3</td>\n",
              "      <td>0</td>\n",
              "      <td>0</td>\n",
              "      <td>540000</td>\n",
              "    </tr>\n",
              "    <tr>\n",
              "      <th>2</th>\n",
              "      <td>9920</td>\n",
              "      <td>0</td>\n",
              "      <td>22</td>\n",
              "      <td>5</td>\n",
              "      <td>4.0</td>\n",
              "      <td>3834</td>\n",
              "      <td>3</td>\n",
              "      <td>1</td>\n",
              "      <td>1</td>\n",
              "      <td>515000</td>\n",
              "    </tr>\n",
              "    <tr>\n",
              "      <th>3</th>\n",
              "      <td>10035</td>\n",
              "      <td>1</td>\n",
              "      <td>22</td>\n",
              "      <td>5</td>\n",
              "      <td>4.0</td>\n",
              "      <td>3828</td>\n",
              "      <td>3</td>\n",
              "      <td>1</td>\n",
              "      <td>1</td>\n",
              "      <td>495000</td>\n",
              "    </tr>\n",
              "    <tr>\n",
              "      <th>4</th>\n",
              "      <td>9600</td>\n",
              "      <td>1</td>\n",
              "      <td>14</td>\n",
              "      <td>5</td>\n",
              "      <td>4.0</td>\n",
              "      <td>3382</td>\n",
              "      <td>3</td>\n",
              "      <td>0</td>\n",
              "      <td>1</td>\n",
              "      <td>494700</td>\n",
              "    </tr>\n",
              "  </tbody>\n",
              "</table>\n",
              "</div>\n",
              "      <button class=\"colab-df-convert\" onclick=\"convertToInteractive('df-ca631a8e-5d49-43cf-ba96-b40bd624f5cf')\"\n",
              "              title=\"Convert this dataframe to an interactive table.\"\n",
              "              style=\"display:none;\">\n",
              "        \n",
              "  <svg xmlns=\"http://www.w3.org/2000/svg\" height=\"24px\"viewBox=\"0 0 24 24\"\n",
              "       width=\"24px\">\n",
              "    <path d=\"M0 0h24v24H0V0z\" fill=\"none\"/>\n",
              "    <path d=\"M18.56 5.44l.94 2.06.94-2.06 2.06-.94-2.06-.94-.94-2.06-.94 2.06-2.06.94zm-11 1L8.5 8.5l.94-2.06 2.06-.94-2.06-.94L8.5 2.5l-.94 2.06-2.06.94zm10 10l.94 2.06.94-2.06 2.06-.94-2.06-.94-.94-2.06-.94 2.06-2.06.94z\"/><path d=\"M17.41 7.96l-1.37-1.37c-.4-.4-.92-.59-1.43-.59-.52 0-1.04.2-1.43.59L10.3 9.45l-7.72 7.72c-.78.78-.78 2.05 0 2.83L4 21.41c.39.39.9.59 1.41.59.51 0 1.02-.2 1.41-.59l7.78-7.78 2.81-2.81c.8-.78.8-2.07 0-2.86zM5.41 20L4 18.59l7.72-7.72 1.47 1.35L5.41 20z\"/>\n",
              "  </svg>\n",
              "      </button>\n",
              "      \n",
              "  <style>\n",
              "    .colab-df-container {\n",
              "      display:flex;\n",
              "      flex-wrap:wrap;\n",
              "      gap: 12px;\n",
              "    }\n",
              "\n",
              "    .colab-df-convert {\n",
              "      background-color: #E8F0FE;\n",
              "      border: none;\n",
              "      border-radius: 50%;\n",
              "      cursor: pointer;\n",
              "      display: none;\n",
              "      fill: #1967D2;\n",
              "      height: 32px;\n",
              "      padding: 0 0 0 0;\n",
              "      width: 32px;\n",
              "    }\n",
              "\n",
              "    .colab-df-convert:hover {\n",
              "      background-color: #E2EBFA;\n",
              "      box-shadow: 0px 1px 2px rgba(60, 64, 67, 0.3), 0px 1px 3px 1px rgba(60, 64, 67, 0.15);\n",
              "      fill: #174EA6;\n",
              "    }\n",
              "\n",
              "    [theme=dark] .colab-df-convert {\n",
              "      background-color: #3B4455;\n",
              "      fill: #D2E3FC;\n",
              "    }\n",
              "\n",
              "    [theme=dark] .colab-df-convert:hover {\n",
              "      background-color: #434B5C;\n",
              "      box-shadow: 0px 1px 3px 1px rgba(0, 0, 0, 0.15);\n",
              "      filter: drop-shadow(0px 1px 2px rgba(0, 0, 0, 0.3));\n",
              "      fill: #FFFFFF;\n",
              "    }\n",
              "  </style>\n",
              "\n",
              "      <script>\n",
              "        const buttonEl =\n",
              "          document.querySelector('#df-ca631a8e-5d49-43cf-ba96-b40bd624f5cf button.colab-df-convert');\n",
              "        buttonEl.style.display =\n",
              "          google.colab.kernel.accessAllowed ? 'block' : 'none';\n",
              "\n",
              "        async function convertToInteractive(key) {\n",
              "          const element = document.querySelector('#df-ca631a8e-5d49-43cf-ba96-b40bd624f5cf');\n",
              "          const dataTable =\n",
              "            await google.colab.kernel.invokeFunction('convertToInteractive',\n",
              "                                                     [key], {});\n",
              "          if (!dataTable) return;\n",
              "\n",
              "          const docLinkHtml = 'Like what you see? Visit the ' +\n",
              "            '<a target=\"_blank\" href=https://colab.research.google.com/notebooks/data_table.ipynb>data table notebook</a>'\n",
              "            + ' to learn more about interactive tables.';\n",
              "          element.innerHTML = '';\n",
              "          dataTable['output_type'] = 'display_data';\n",
              "          await google.colab.output.renderOutput(dataTable, element);\n",
              "          const docLink = document.createElement('div');\n",
              "          docLink.innerHTML = docLinkHtml;\n",
              "          element.appendChild(docLink);\n",
              "        }\n",
              "      </script>\n",
              "    </div>\n",
              "  </div>\n",
              "  "
            ]
          },
          "metadata": {},
          "execution_count": 2
        }
      ]
    },
    {
      "cell_type": "markdown",
      "metadata": {
        "id": "AQ9yK2X14Yju"
      },
      "source": [
        "#### Every time we modify the dataframe it is a good practice to check a sample of it to confirm the code did what was intended. For this we will use sales_df.head(), which will show the first 5 rows of the dataframe."
      ]
    },
    {
      "cell_type": "markdown",
      "metadata": {
        "id": "EPwwoczaH8_W"
      },
      "source": [
        "&nbsp;  \n",
        "&nbsp;  \n",
        "&nbsp;  \n",
        "#### **EXPLORE THE DATA**"
      ]
    },
    {
      "cell_type": "markdown",
      "metadata": {
        "id": "chlPVOarIDQI"
      },
      "source": [
        "#### Now we can explore the characteristics of the dataset."
      ]
    },
    {
      "cell_type": "code",
      "metadata": {
        "id": "03Sx1N6tH4sW",
        "colab": {
          "base_uri": "https://localhost:8080/",
          "height": 300
        },
        "outputId": "a4050cf0-c037-4d80-c90c-d07fa796f513"
      },
      "source": [
        "sales_df.describe()     #Get main statistics of the dataset"
      ],
      "execution_count": 3,
      "outputs": [
        {
          "output_type": "execute_result",
          "data": {
            "text/plain": [
              "               Site        View         Age    Bedrooms   Bathrooms  \\\n",
              "count    210.000000  210.000000  210.000000  210.000000  210.000000   \n",
              "mean    8608.233333    0.195238   20.461905    3.700000    2.466667   \n",
              "std     2779.318027    0.397331    4.749311    0.641842    0.611949   \n",
              "min     1684.000000    0.000000    2.000000    2.000000    2.000000   \n",
              "25%     6577.500000    0.000000   18.000000    3.000000    2.000000   \n",
              "50%     8115.500000    0.000000   21.000000    4.000000    2.000000   \n",
              "75%    10080.000000    0.000000   24.000000    4.000000    3.000000   \n",
              "max    18439.000000    1.000000   28.000000    5.000000    4.000000   \n",
              "\n",
              "               GLA      Garage   Fireplace        Pool    Sales_Price  \n",
              "count   210.000000  210.000000  210.000000  210.000000     210.000000  \n",
              "mean   2183.052381    4.128571    0.157143    0.333333  306573.128571  \n",
              "std     596.492637   26.066489    0.364805    0.472531   71470.906697  \n",
              "min    1191.000000    0.000000    0.000000    0.000000  167850.000000  \n",
              "25%    1805.750000    2.000000    0.000000    0.000000  259925.000000  \n",
              "50%    2023.000000    2.000000    0.000000    0.000000  285000.000000  \n",
              "75%    2454.500000    3.000000    0.000000    1.000000  340750.000000  \n",
              "max    4439.000000  380.000000    1.000000    1.000000  675000.000000  "
            ],
            "text/html": [
              "\n",
              "  <div id=\"df-a714d796-f6b4-4bf7-8ea0-de58b2943230\">\n",
              "    <div class=\"colab-df-container\">\n",
              "      <div>\n",
              "<style scoped>\n",
              "    .dataframe tbody tr th:only-of-type {\n",
              "        vertical-align: middle;\n",
              "    }\n",
              "\n",
              "    .dataframe tbody tr th {\n",
              "        vertical-align: top;\n",
              "    }\n",
              "\n",
              "    .dataframe thead th {\n",
              "        text-align: right;\n",
              "    }\n",
              "</style>\n",
              "<table border=\"1\" class=\"dataframe\">\n",
              "  <thead>\n",
              "    <tr style=\"text-align: right;\">\n",
              "      <th></th>\n",
              "      <th>Site</th>\n",
              "      <th>View</th>\n",
              "      <th>Age</th>\n",
              "      <th>Bedrooms</th>\n",
              "      <th>Bathrooms</th>\n",
              "      <th>GLA</th>\n",
              "      <th>Garage</th>\n",
              "      <th>Fireplace</th>\n",
              "      <th>Pool</th>\n",
              "      <th>Sales_Price</th>\n",
              "    </tr>\n",
              "  </thead>\n",
              "  <tbody>\n",
              "    <tr>\n",
              "      <th>count</th>\n",
              "      <td>210.000000</td>\n",
              "      <td>210.000000</td>\n",
              "      <td>210.000000</td>\n",
              "      <td>210.000000</td>\n",
              "      <td>210.000000</td>\n",
              "      <td>210.000000</td>\n",
              "      <td>210.000000</td>\n",
              "      <td>210.000000</td>\n",
              "      <td>210.000000</td>\n",
              "      <td>210.000000</td>\n",
              "    </tr>\n",
              "    <tr>\n",
              "      <th>mean</th>\n",
              "      <td>8608.233333</td>\n",
              "      <td>0.195238</td>\n",
              "      <td>20.461905</td>\n",
              "      <td>3.700000</td>\n",
              "      <td>2.466667</td>\n",
              "      <td>2183.052381</td>\n",
              "      <td>4.128571</td>\n",
              "      <td>0.157143</td>\n",
              "      <td>0.333333</td>\n",
              "      <td>306573.128571</td>\n",
              "    </tr>\n",
              "    <tr>\n",
              "      <th>std</th>\n",
              "      <td>2779.318027</td>\n",
              "      <td>0.397331</td>\n",
              "      <td>4.749311</td>\n",
              "      <td>0.641842</td>\n",
              "      <td>0.611949</td>\n",
              "      <td>596.492637</td>\n",
              "      <td>26.066489</td>\n",
              "      <td>0.364805</td>\n",
              "      <td>0.472531</td>\n",
              "      <td>71470.906697</td>\n",
              "    </tr>\n",
              "    <tr>\n",
              "      <th>min</th>\n",
              "      <td>1684.000000</td>\n",
              "      <td>0.000000</td>\n",
              "      <td>2.000000</td>\n",
              "      <td>2.000000</td>\n",
              "      <td>2.000000</td>\n",
              "      <td>1191.000000</td>\n",
              "      <td>0.000000</td>\n",
              "      <td>0.000000</td>\n",
              "      <td>0.000000</td>\n",
              "      <td>167850.000000</td>\n",
              "    </tr>\n",
              "    <tr>\n",
              "      <th>25%</th>\n",
              "      <td>6577.500000</td>\n",
              "      <td>0.000000</td>\n",
              "      <td>18.000000</td>\n",
              "      <td>3.000000</td>\n",
              "      <td>2.000000</td>\n",
              "      <td>1805.750000</td>\n",
              "      <td>2.000000</td>\n",
              "      <td>0.000000</td>\n",
              "      <td>0.000000</td>\n",
              "      <td>259925.000000</td>\n",
              "    </tr>\n",
              "    <tr>\n",
              "      <th>50%</th>\n",
              "      <td>8115.500000</td>\n",
              "      <td>0.000000</td>\n",
              "      <td>21.000000</td>\n",
              "      <td>4.000000</td>\n",
              "      <td>2.000000</td>\n",
              "      <td>2023.000000</td>\n",
              "      <td>2.000000</td>\n",
              "      <td>0.000000</td>\n",
              "      <td>0.000000</td>\n",
              "      <td>285000.000000</td>\n",
              "    </tr>\n",
              "    <tr>\n",
              "      <th>75%</th>\n",
              "      <td>10080.000000</td>\n",
              "      <td>0.000000</td>\n",
              "      <td>24.000000</td>\n",
              "      <td>4.000000</td>\n",
              "      <td>3.000000</td>\n",
              "      <td>2454.500000</td>\n",
              "      <td>3.000000</td>\n",
              "      <td>0.000000</td>\n",
              "      <td>1.000000</td>\n",
              "      <td>340750.000000</td>\n",
              "    </tr>\n",
              "    <tr>\n",
              "      <th>max</th>\n",
              "      <td>18439.000000</td>\n",
              "      <td>1.000000</td>\n",
              "      <td>28.000000</td>\n",
              "      <td>5.000000</td>\n",
              "      <td>4.000000</td>\n",
              "      <td>4439.000000</td>\n",
              "      <td>380.000000</td>\n",
              "      <td>1.000000</td>\n",
              "      <td>1.000000</td>\n",
              "      <td>675000.000000</td>\n",
              "    </tr>\n",
              "  </tbody>\n",
              "</table>\n",
              "</div>\n",
              "      <button class=\"colab-df-convert\" onclick=\"convertToInteractive('df-a714d796-f6b4-4bf7-8ea0-de58b2943230')\"\n",
              "              title=\"Convert this dataframe to an interactive table.\"\n",
              "              style=\"display:none;\">\n",
              "        \n",
              "  <svg xmlns=\"http://www.w3.org/2000/svg\" height=\"24px\"viewBox=\"0 0 24 24\"\n",
              "       width=\"24px\">\n",
              "    <path d=\"M0 0h24v24H0V0z\" fill=\"none\"/>\n",
              "    <path d=\"M18.56 5.44l.94 2.06.94-2.06 2.06-.94-2.06-.94-.94-2.06-.94 2.06-2.06.94zm-11 1L8.5 8.5l.94-2.06 2.06-.94-2.06-.94L8.5 2.5l-.94 2.06-2.06.94zm10 10l.94 2.06.94-2.06 2.06-.94-2.06-.94-.94-2.06-.94 2.06-2.06.94z\"/><path d=\"M17.41 7.96l-1.37-1.37c-.4-.4-.92-.59-1.43-.59-.52 0-1.04.2-1.43.59L10.3 9.45l-7.72 7.72c-.78.78-.78 2.05 0 2.83L4 21.41c.39.39.9.59 1.41.59.51 0 1.02-.2 1.41-.59l7.78-7.78 2.81-2.81c.8-.78.8-2.07 0-2.86zM5.41 20L4 18.59l7.72-7.72 1.47 1.35L5.41 20z\"/>\n",
              "  </svg>\n",
              "      </button>\n",
              "      \n",
              "  <style>\n",
              "    .colab-df-container {\n",
              "      display:flex;\n",
              "      flex-wrap:wrap;\n",
              "      gap: 12px;\n",
              "    }\n",
              "\n",
              "    .colab-df-convert {\n",
              "      background-color: #E8F0FE;\n",
              "      border: none;\n",
              "      border-radius: 50%;\n",
              "      cursor: pointer;\n",
              "      display: none;\n",
              "      fill: #1967D2;\n",
              "      height: 32px;\n",
              "      padding: 0 0 0 0;\n",
              "      width: 32px;\n",
              "    }\n",
              "\n",
              "    .colab-df-convert:hover {\n",
              "      background-color: #E2EBFA;\n",
              "      box-shadow: 0px 1px 2px rgba(60, 64, 67, 0.3), 0px 1px 3px 1px rgba(60, 64, 67, 0.15);\n",
              "      fill: #174EA6;\n",
              "    }\n",
              "\n",
              "    [theme=dark] .colab-df-convert {\n",
              "      background-color: #3B4455;\n",
              "      fill: #D2E3FC;\n",
              "    }\n",
              "\n",
              "    [theme=dark] .colab-df-convert:hover {\n",
              "      background-color: #434B5C;\n",
              "      box-shadow: 0px 1px 3px 1px rgba(0, 0, 0, 0.15);\n",
              "      filter: drop-shadow(0px 1px 2px rgba(0, 0, 0, 0.3));\n",
              "      fill: #FFFFFF;\n",
              "    }\n",
              "  </style>\n",
              "\n",
              "      <script>\n",
              "        const buttonEl =\n",
              "          document.querySelector('#df-a714d796-f6b4-4bf7-8ea0-de58b2943230 button.colab-df-convert');\n",
              "        buttonEl.style.display =\n",
              "          google.colab.kernel.accessAllowed ? 'block' : 'none';\n",
              "\n",
              "        async function convertToInteractive(key) {\n",
              "          const element = document.querySelector('#df-a714d796-f6b4-4bf7-8ea0-de58b2943230');\n",
              "          const dataTable =\n",
              "            await google.colab.kernel.invokeFunction('convertToInteractive',\n",
              "                                                     [key], {});\n",
              "          if (!dataTable) return;\n",
              "\n",
              "          const docLinkHtml = 'Like what you see? Visit the ' +\n",
              "            '<a target=\"_blank\" href=https://colab.research.google.com/notebooks/data_table.ipynb>data table notebook</a>'\n",
              "            + ' to learn more about interactive tables.';\n",
              "          element.innerHTML = '';\n",
              "          dataTable['output_type'] = 'display_data';\n",
              "          await google.colab.output.renderOutput(dataTable, element);\n",
              "          const docLink = document.createElement('div');\n",
              "          docLink.innerHTML = docLinkHtml;\n",
              "          element.appendChild(docLink);\n",
              "        }\n",
              "      </script>\n",
              "    </div>\n",
              "  </div>\n",
              "  "
            ]
          },
          "metadata": {},
          "execution_count": 3
        }
      ]
    },
    {
      "cell_type": "code",
      "metadata": {
        "colab": {
          "base_uri": "https://localhost:8080/"
        },
        "id": "D9lqCsQuYJQ5",
        "outputId": "b8d82dea-8167-4e5e-8187-f1106982bb6b"
      },
      "source": [
        "sales_df.info()         #Get general information including number of rows, columns, and data types"
      ],
      "execution_count": 4,
      "outputs": [
        {
          "output_type": "stream",
          "name": "stdout",
          "text": [
            "<class 'pandas.core.frame.DataFrame'>\n",
            "RangeIndex: 210 entries, 0 to 209\n",
            "Data columns (total 10 columns):\n",
            " #   Column       Non-Null Count  Dtype  \n",
            "---  ------       --------------  -----  \n",
            " 0   Site         210 non-null    int64  \n",
            " 1   View         210 non-null    int64  \n",
            " 2   Age          210 non-null    int64  \n",
            " 3   Bedrooms     210 non-null    int64  \n",
            " 4   Bathrooms    210 non-null    float64\n",
            " 5   GLA          210 non-null    int64  \n",
            " 6   Garage       210 non-null    int64  \n",
            " 7   Fireplace    210 non-null    int64  \n",
            " 8   Pool         210 non-null    int64  \n",
            " 9   Sales_Price  210 non-null    int64  \n",
            "dtypes: float64(1), int64(9)\n",
            "memory usage: 16.5 KB\n"
          ]
        }
      ]
    },
    {
      "cell_type": "markdown",
      "metadata": {
        "id": "JbL0cUh6ouFk"
      },
      "source": [
        "&nbsp;\n",
        "####Since we already covered the data pre-processing steps in Part 1, we will not cover those steps again in Part 2. Instead, we will jump right into data modeling and predictions.\n",
        "&nbsp;"
      ]
    },
    {
      "cell_type": "markdown",
      "metadata": {
        "id": "4kTna94fpu2i"
      },
      "source": [
        "#### **MODELS**"
      ]
    },
    {
      "cell_type": "markdown",
      "metadata": {
        "id": "iApM6WL7I2a8"
      },
      "source": [
        "#### First, we import the libraries we are going to be using."
      ]
    },
    {
      "cell_type": "code",
      "metadata": {
        "id": "9Jtw44jMPjGR"
      },
      "source": [
        "from sklearn.model_selection import train_test_split\n",
        "from sklearn.metrics import mean_absolute_error\n",
        "from sklearn.ensemble import RandomForestRegressor\n",
        "from xgboost import XGBRegressor\n"
      ],
      "execution_count": 5,
      "outputs": []
    },
    {
      "cell_type": "markdown",
      "metadata": {
        "id": "2GGxPVepHzuO"
      },
      "source": [
        "&nbsp;  \n",
        "&nbsp;  \n",
        "#### Before running our models we must define the predicting features (Site, View, Age, Bedrooms, Bathrooms, GLA, Garage, Fireplace, and Pool) as 'X' and the target feature (Sales Prices) as 'y'."
      ]
    },
    {
      "cell_type": "code",
      "metadata": {
        "id": "pOwqPdjop8Ji"
      },
      "source": [
        "X = sales_df.iloc[:,:-1]      #Define predicting features, X\n",
        "y = sales_df.iloc[:,-1]       #Define target, y"
      ],
      "execution_count": 6,
      "outputs": []
    },
    {
      "cell_type": "markdown",
      "metadata": {
        "id": "Eu9Lr2dsJY-s"
      },
      "source": [
        "&nbsp;  \n",
        "&nbsp;  \n",
        "#### Next, we split the dataframe in two sets. The train set (to train the model) and the test set (to test the model with new data).\n",
        "#### We assign 80% of the data to the train set and 20% to the test set. (Other common combinations are 75/25, 85/15, and 90/10)."
      ]
    },
    {
      "cell_type": "code",
      "metadata": {
        "id": "gaGZL7d_Jxzy"
      },
      "source": [
        "X_train, X_test, y_train, y_test = train_test_split(X, y, train_size=0.80, test_size=0.2, random_state=0)     #train-test split"
      ],
      "execution_count": 7,
      "outputs": []
    },
    {
      "cell_type": "markdown",
      "metadata": {
        "id": "seapE5RxPH6R"
      },
      "source": [
        "&nbsp;  \n",
        "&nbsp;  \n",
        "\n",
        "#### **MODEL: Random Forest**"
      ]
    },
    {
      "cell_type": "markdown",
      "metadata": {
        "id": "up0Vr5qDK8Bw"
      },
      "source": [
        "\n",
        "#### The next step is to define the random forest model and fit the train set."
      ]
    },
    {
      "cell_type": "code",
      "metadata": {
        "id": "MdG1BAhjwqJS",
        "colab": {
          "base_uri": "https://localhost:8080/"
        },
        "outputId": "634f93d6-dcd6-4971-a430-07b4f870444a"
      },
      "source": [
        "random_forest = RandomForestRegressor(random_state=0)   #Define the model\n",
        "\n",
        "random_forest.fit(X_train,y_train)                      #Fit the train set\n"
      ],
      "execution_count": 8,
      "outputs": [
        {
          "output_type": "execute_result",
          "data": {
            "text/plain": [
              "RandomForestRegressor(random_state=0)"
            ]
          },
          "metadata": {},
          "execution_count": 8
        }
      ]
    },
    {
      "cell_type": "markdown",
      "metadata": {
        "id": "giOSu1bcL1GH"
      },
      "source": [
        "&nbsp;  \n",
        "&nbsp;  \n",
        "#### Now that the Random Forest model has been created, we want to know how well it performs with new data (test set). We will use \"Mean Absolute Error\" (MAE) to score the model."
      ]
    },
    {
      "cell_type": "code",
      "metadata": {
        "colab": {
          "base_uri": "https://localhost:8080/"
        },
        "id": "tvkbaCo0MQCJ",
        "outputId": "630bf112-57db-422e-bea0-20d8825b7d79"
      },
      "source": [
        "rf_pred = random_forest.predict(X_test)                     #Get predictions using the test set\n",
        "\n",
        "rf_mae = mean_absolute_error(rf_pred, y_test)               #Calculate MAE\n",
        "\n",
        "print(\"Random Forest MAE:\", format(rf_mae, ',.2f'))         #Display MAE score"
      ],
      "execution_count": 9,
      "outputs": [
        {
          "output_type": "stream",
          "name": "stdout",
          "text": [
            "Random Forest MAE: 17,733.81\n"
          ]
        }
      ]
    },
    {
      "cell_type": "markdown",
      "metadata": {
        "id": "LVLSLu0I2MTs"
      },
      "source": [
        "#### The Mean Absoulte Error (MAE) is 17,733.81"
      ]
    },
    {
      "cell_type": "markdown",
      "metadata": {
        "id": "IM19UomwRFua"
      },
      "source": [
        "&nbsp; \n",
        "&nbsp; \n",
        "#### Next, we can work on the Extreme Gradient Boosting (XGBoost) model."
      ]
    },
    {
      "cell_type": "markdown",
      "metadata": {
        "id": "-sCPLUGyr3zb"
      },
      "source": [
        "####**MODEL: Extreme Gradient Boosting (XGBoost)**"
      ]
    },
    {
      "cell_type": "markdown",
      "metadata": {
        "id": "-8Wt7ITgSWiD"
      },
      "source": [
        "#### Let's define the model and fit the train set."
      ]
    },
    {
      "cell_type": "code",
      "metadata": {
        "id": "otNQwhNSja_o",
        "colab": {
          "base_uri": "https://localhost:8080/"
        },
        "outputId": "f5b51ac0-e9bf-4152-aab9-02236ce065ab"
      },
      "source": [
        "xg_boost = XGBRegressor()             #Define the model\n",
        " \n",
        "xg_boost.fit(X_train,y_train)         #Fit the train set"
      ],
      "execution_count": 10,
      "outputs": [
        {
          "output_type": "stream",
          "name": "stdout",
          "text": [
            "[00:07:54] WARNING: /workspace/src/objective/regression_obj.cu:152: reg:linear is now deprecated in favor of reg:squarederror.\n"
          ]
        },
        {
          "output_type": "execute_result",
          "data": {
            "text/plain": [
              "XGBRegressor()"
            ]
          },
          "metadata": {},
          "execution_count": 10
        }
      ]
    },
    {
      "cell_type": "markdown",
      "metadata": {
        "id": "07tpVfN5SzyO"
      },
      "source": [
        "&nbsp;  \n",
        "&nbsp;  \n",
        "#### We just created the Extreme Gradient Boosting model. Now we want to know how well it performs with new data (test set). We will use \"Mean Absolute Error\" (MAE) to score the model."
      ]
    },
    {
      "cell_type": "code",
      "metadata": {
        "id": "y-5_uZlKSyVI",
        "colab": {
          "base_uri": "https://localhost:8080/"
        },
        "outputId": "d435fe1d-366e-4388-be96-369cb4b3a83e"
      },
      "source": [
        "xgb_pred = xg_boost.predict(X_test)                 #Get predictions using the test set\n",
        "\n",
        "xgb_mae = mean_absolute_error(xgb_pred,y_test)      #Calculate MAE\n",
        "\n",
        "print(\"XGBoost MAE:\", format(xgb_mae, ',.2f'))      #Display MAE score\n"
      ],
      "execution_count": 11,
      "outputs": [
        {
          "output_type": "stream",
          "name": "stdout",
          "text": [
            "XGBoost MAE: 20,499.71\n"
          ]
        }
      ]
    },
    {
      "cell_type": "markdown",
      "metadata": {
        "id": "TXY-_Kyb2v0K"
      },
      "source": [
        "#### The Mean Absoulte Error (MAE) is 20,499.17"
      ]
    },
    {
      "cell_type": "markdown",
      "metadata": {
        "id": "MS4XtRgxWCmI"
      },
      "source": [
        "#### Based on the MAE scores it appears that the **Random Forest** model, with a lower MAE, is a better fit for our dataset."
      ]
    },
    {
      "cell_type": "markdown",
      "metadata": {
        "id": "YrObnivyWj59"
      },
      "source": [
        "&nbsp;  \n",
        "&nbsp;  \n",
        "#### Next, we will run both of the trained models using the subject property data."
      ]
    },
    {
      "cell_type": "markdown",
      "metadata": {
        "id": "MsJeV2XPs_XD"
      },
      "source": [
        "#### **PREDICTIONS**"
      ]
    },
    {
      "cell_type": "markdown",
      "metadata": {
        "id": "Za7s0g65WywE"
      },
      "source": [
        "#### Import a csv file that contains the subject's information in the same format as the cleaned dataframe. The only missing feature is the \"Sales Price\" since that is the target we are trying to predict."
      ]
    },
    {
      "cell_type": "code",
      "metadata": {
        "colab": {
          "base_uri": "https://localhost:8080/",
          "height": 81
        },
        "id": "MLzGKgrktnyj",
        "outputId": "556ced7e-4e60-446d-aabb-0575cb11f778"
      },
      "source": [
        "sp_data_path = '/content/SP_Data2.csv'          #Create file path to csv dataset \n",
        "sp_data = pd.read_csv(sp_data_path)             #Read dataset in dataframe\n",
        "\n",
        "sp_data.head()                                  #Display data (first 5 rows) just to make sure it was successfully imported"
      ],
      "execution_count": 12,
      "outputs": [
        {
          "output_type": "execute_result",
          "data": {
            "text/plain": [
              "    Site  View  Age  Bedrooms  Bathrooms   GLA  Garage  Fireplace  Pool\n",
              "0  12100     0   16         4          3  2915       3          0     1"
            ],
            "text/html": [
              "\n",
              "  <div id=\"df-9c8c1a7c-5539-4551-a9a3-6fafeae621bd\">\n",
              "    <div class=\"colab-df-container\">\n",
              "      <div>\n",
              "<style scoped>\n",
              "    .dataframe tbody tr th:only-of-type {\n",
              "        vertical-align: middle;\n",
              "    }\n",
              "\n",
              "    .dataframe tbody tr th {\n",
              "        vertical-align: top;\n",
              "    }\n",
              "\n",
              "    .dataframe thead th {\n",
              "        text-align: right;\n",
              "    }\n",
              "</style>\n",
              "<table border=\"1\" class=\"dataframe\">\n",
              "  <thead>\n",
              "    <tr style=\"text-align: right;\">\n",
              "      <th></th>\n",
              "      <th>Site</th>\n",
              "      <th>View</th>\n",
              "      <th>Age</th>\n",
              "      <th>Bedrooms</th>\n",
              "      <th>Bathrooms</th>\n",
              "      <th>GLA</th>\n",
              "      <th>Garage</th>\n",
              "      <th>Fireplace</th>\n",
              "      <th>Pool</th>\n",
              "    </tr>\n",
              "  </thead>\n",
              "  <tbody>\n",
              "    <tr>\n",
              "      <th>0</th>\n",
              "      <td>12100</td>\n",
              "      <td>0</td>\n",
              "      <td>16</td>\n",
              "      <td>4</td>\n",
              "      <td>3</td>\n",
              "      <td>2915</td>\n",
              "      <td>3</td>\n",
              "      <td>0</td>\n",
              "      <td>1</td>\n",
              "    </tr>\n",
              "  </tbody>\n",
              "</table>\n",
              "</div>\n",
              "      <button class=\"colab-df-convert\" onclick=\"convertToInteractive('df-9c8c1a7c-5539-4551-a9a3-6fafeae621bd')\"\n",
              "              title=\"Convert this dataframe to an interactive table.\"\n",
              "              style=\"display:none;\">\n",
              "        \n",
              "  <svg xmlns=\"http://www.w3.org/2000/svg\" height=\"24px\"viewBox=\"0 0 24 24\"\n",
              "       width=\"24px\">\n",
              "    <path d=\"M0 0h24v24H0V0z\" fill=\"none\"/>\n",
              "    <path d=\"M18.56 5.44l.94 2.06.94-2.06 2.06-.94-2.06-.94-.94-2.06-.94 2.06-2.06.94zm-11 1L8.5 8.5l.94-2.06 2.06-.94-2.06-.94L8.5 2.5l-.94 2.06-2.06.94zm10 10l.94 2.06.94-2.06 2.06-.94-2.06-.94-.94-2.06-.94 2.06-2.06.94z\"/><path d=\"M17.41 7.96l-1.37-1.37c-.4-.4-.92-.59-1.43-.59-.52 0-1.04.2-1.43.59L10.3 9.45l-7.72 7.72c-.78.78-.78 2.05 0 2.83L4 21.41c.39.39.9.59 1.41.59.51 0 1.02-.2 1.41-.59l7.78-7.78 2.81-2.81c.8-.78.8-2.07 0-2.86zM5.41 20L4 18.59l7.72-7.72 1.47 1.35L5.41 20z\"/>\n",
              "  </svg>\n",
              "      </button>\n",
              "      \n",
              "  <style>\n",
              "    .colab-df-container {\n",
              "      display:flex;\n",
              "      flex-wrap:wrap;\n",
              "      gap: 12px;\n",
              "    }\n",
              "\n",
              "    .colab-df-convert {\n",
              "      background-color: #E8F0FE;\n",
              "      border: none;\n",
              "      border-radius: 50%;\n",
              "      cursor: pointer;\n",
              "      display: none;\n",
              "      fill: #1967D2;\n",
              "      height: 32px;\n",
              "      padding: 0 0 0 0;\n",
              "      width: 32px;\n",
              "    }\n",
              "\n",
              "    .colab-df-convert:hover {\n",
              "      background-color: #E2EBFA;\n",
              "      box-shadow: 0px 1px 2px rgba(60, 64, 67, 0.3), 0px 1px 3px 1px rgba(60, 64, 67, 0.15);\n",
              "      fill: #174EA6;\n",
              "    }\n",
              "\n",
              "    [theme=dark] .colab-df-convert {\n",
              "      background-color: #3B4455;\n",
              "      fill: #D2E3FC;\n",
              "    }\n",
              "\n",
              "    [theme=dark] .colab-df-convert:hover {\n",
              "      background-color: #434B5C;\n",
              "      box-shadow: 0px 1px 3px 1px rgba(0, 0, 0, 0.15);\n",
              "      filter: drop-shadow(0px 1px 2px rgba(0, 0, 0, 0.3));\n",
              "      fill: #FFFFFF;\n",
              "    }\n",
              "  </style>\n",
              "\n",
              "      <script>\n",
              "        const buttonEl =\n",
              "          document.querySelector('#df-9c8c1a7c-5539-4551-a9a3-6fafeae621bd button.colab-df-convert');\n",
              "        buttonEl.style.display =\n",
              "          google.colab.kernel.accessAllowed ? 'block' : 'none';\n",
              "\n",
              "        async function convertToInteractive(key) {\n",
              "          const element = document.querySelector('#df-9c8c1a7c-5539-4551-a9a3-6fafeae621bd');\n",
              "          const dataTable =\n",
              "            await google.colab.kernel.invokeFunction('convertToInteractive',\n",
              "                                                     [key], {});\n",
              "          if (!dataTable) return;\n",
              "\n",
              "          const docLinkHtml = 'Like what you see? Visit the ' +\n",
              "            '<a target=\"_blank\" href=https://colab.research.google.com/notebooks/data_table.ipynb>data table notebook</a>'\n",
              "            + ' to learn more about interactive tables.';\n",
              "          element.innerHTML = '';\n",
              "          dataTable['output_type'] = 'display_data';\n",
              "          await google.colab.output.renderOutput(dataTable, element);\n",
              "          const docLink = document.createElement('div');\n",
              "          docLink.innerHTML = docLinkHtml;\n",
              "          element.appendChild(docLink);\n",
              "        }\n",
              "      </script>\n",
              "    </div>\n",
              "  </div>\n",
              "  "
            ]
          },
          "metadata": {},
          "execution_count": 12
        }
      ]
    },
    {
      "cell_type": "markdown",
      "metadata": {
        "id": "MknaQcljbJHn"
      },
      "source": [
        "&nbsp;\n",
        "\n",
        "&nbsp;  \n",
        "#### Now we define the predicting features and then we are run the trained models to predict the subject's estimated value."
      ]
    },
    {
      "cell_type": "code",
      "metadata": {
        "colab": {
          "base_uri": "https://localhost:8080/"
        },
        "id": "5o0tnsZuaaxO",
        "outputId": "f026b60f-06e7-4f17-aae8-516a873a2ee5"
      },
      "source": [
        "features = ['Site', 'View', 'Age', 'Bedrooms', 'Bathrooms', 'GLA','Garage','Fireplace','Pool']    #Define predicting features\n",
        "sp_X = sp_data[features]\n",
        "\n",
        "prediction_random_forest = int(random_forest.predict(sp_X))           #Predict the subject's value using Random Forest model\n",
        "prediction_xgboost = int(xg_boost.predict(sp_X))                      #Predict the subject's value using Extreme Gradient Boosting model\n",
        "\n",
        "print('Estimated Values')                                             #Display estimated values\n",
        "print()\n",
        "print('Random Forest: $', format(prediction_random_forest,','))\n",
        "print('Extreme Gradient Boosting: $', format(prediction_xgboost,','))"
      ],
      "execution_count": 13,
      "outputs": [
        {
          "output_type": "stream",
          "name": "stdout",
          "text": [
            "Estimated Values\n",
            "\n",
            "Random Forest: $ 395,426\n",
            "Extreme Gradient Boosting: $ 407,910\n"
          ]
        }
      ]
    },
    {
      "cell_type": "markdown",
      "metadata": {
        "id": "FOV9Kz32nRaP"
      },
      "source": [
        "&nbsp;  \n",
        "&nbsp;  \n",
        "#### Subject's estimated value:\n",
        "#### 1) Based on Random Forest is 395,426\n",
        "#### 2) Based on Extreme Gradient Boosting is 407,910"
      ]
    },
    {
      "cell_type": "markdown",
      "metadata": {
        "id": "0--_bh-4H6DP"
      },
      "source": [
        "&nbsp;  \n",
        "&nbsp;\n",
        "#### **What to do with the results?**\n",
        "\n",
        "#### Similar to Part 1 of the tutorial, we were able to run a couple of models that predicted a property value with reasonable accuracy. However, the fact that our models produced these results doesn’t mean that we must use them to derive a final estimate of value. Perhaps we just want them as an additional tool to support our own analysis. Or maybe we do want to use them for low-risk collateral analysis. The point is that we should always keep in mind that machine learning models are just tools, we are ultimately in charge of making the decision to use them or not. \n",
        "&nbsp;\n",
        "\n",
        "#### **Conclusion**\n",
        "#### In Part 2 of this tutorial we covered data collection, data modeling, and prediction of values.\n",
        "&nbsp;\n",
        "#### In summary, the estimated values obtained from our four models are:\n",
        "#### Linear Regression: 405,604 \n",
        "#### Decision Tree: 420,000\n",
        "#### Random Forest: 395,426\n",
        "#### Extreme Gradient Boosting: 407,910\n",
        "&nbsp;\n",
        "\n"
      ]
    }
  ]
}